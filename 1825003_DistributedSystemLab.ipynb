{
 "cells": [
  {
   "cell_type": "markdown",
   "metadata": {},
   "source": [
    "# Sockets Programming\n",
    "\n",
    "## **#1**\n",
    "**Question:** Write a server (TCP) Program that opens a listening socket and waits to serve client.\n",
    "\n",
    "First, we need to run the server program"
   ]
  },
  {
   "cell_type": "code",
   "execution_count": null,
   "metadata": {},
   "outputs": [],
   "source": [
    "# @title Server Program\n",
    "\n",
    "import socket\n",
    "\n",
    "s = socket.socket(socket.AF_INET, socket.SOCK_STREAM)\n",
    "\n",
    "s.bind((socket.gethostname(), 1234))\n",
    "s.listen(5)\n",
    "\n",
    "while True:\n",
    "  clientsocket, address = s.accept()\n",
    "  print(f\"Connection from {address} has been established\")\n",
    "  clientsocket.send(bytes(\"Welcome to the server!\", \"utf-8\"))"
   ]
  },
  {
   "cell_type": "markdown",
   "metadata": {},
   "source": [
    "## Output:\n",
    "When `client` server successfully connect to the host `server` this output will be shown on `server` program\n",
    "\n",
    "`Connection from ('192.168.0.102', 55454) has been established`"
   ]
  },
  {
   "cell_type": "markdown",
   "metadata": {},
   "source": [
    "## **#2**\n",
    "**Question:** Write a `client` (TCP) Program that connects with the `server` program knowing IP address and port number.\n",
    "\n",
    "After run the `server` program we need to run this `client` program"
   ]
  },
  {
   "cell_type": "code",
   "execution_count": 2,
   "metadata": {},
   "outputs": [
    {
     "name": "stdout",
     "output_type": "stream",
     "text": [
      "Welcome to the server!\n"
     ]
    }
   ],
   "source": [
    "import socket\n",
    "s = socket.socket(socket.AF_INET, socket.SOCK_STREAM)\n",
    "\n",
    "s.connect((socket.gethostname(), 1234))\n",
    "\n",
    "msg = s.recv(1024)\n",
    "\n",
    "print(msg.decode(\"utf-8\"))"
   ]
  },
  {
   "cell_type": "markdown",
   "metadata": {},
   "source": [
    "## Output:\n",
    "When `client` successfully connect to the host `server` this output will be shown on the `client` program\n",
    "\n",
    "`Welcome to the server!`"
   ]
  },
  {
   "cell_type": "markdown",
   "metadata": {},
   "source": [
    "# **#3**\n",
    "\n",
    "**Question:** Get the input string from console on client and send it to server, server echoes back that string to client.\n",
    "\n",
    "In this program, if I input a string from client, the server will back that string with uppercase word.\n",
    "\n",
    "Here is the **Server** program,\n",
    "\n"
   ]
  },
  {
   "cell_type": "code",
   "execution_count": null,
   "metadata": {},
   "outputs": [],
   "source": [
    "import socket\n",
    "\n",
    "s = socket.socket(socket.AF_INET, socket.SOCK_STREAM)\n",
    "\n",
    "s.bind((\"127.0.0.1\", 1236))\n",
    "s.listen(5)\n",
    "\n",
    "while True:\n",
    "  client, address = s.accept()\n",
    "  print(f\"Connection from {address} has been established\")\n",
    "  client.send(bytes(\"Welcome to the server!\", \"utf-8\"))\n",
    "  string = client.recv(1024)\n",
    "  string = string.decode(\"utf-8\")\n",
    "  string = string.upper()\n",
    "  client.send(bytes(string, \"utf-8\"))\n",
    "\n",
    " \n",
    "  client.close()"
   ]
  },
  {
   "cell_type": "markdown",
   "metadata": {},
   "source": [
    "## **Output**\n",
    "`Connection from ('127.0.0.1', 61702) has been established`\n",
    "\n",
    "And here is the **Client** program,\n"
   ]
  },
  {
   "cell_type": "code",
   "execution_count": null,
   "metadata": {},
   "outputs": [],
   "source": [
    "import socket\n",
    "s = socket.socket(socket.AF_INET, socket.SOCK_STREAM)\n",
    "\n",
    "s.connect((\"127.0.0.1\", 1236))\n",
    "\n",
    "message = s.recv(1024)\n",
    "\n",
    "print(message.decode(\"utf-8\"))\n",
    "\n",
    "string = input(\"Enter Word to change to upper case: \")\n",
    "s.send(bytes(string, \"utf-8\"))\n",
    "\n",
    "buffer = s.recv(1024)\n",
    "buffer = buffer.decode(\"utf-8\")\n",
    "print(f\"Server echo: {buffer}\")"
   ]
  },
  {
   "cell_type": "markdown",
   "metadata": {},
   "source": [
    "## **Output**\n",
    "`Welcome to the server!`\n",
    "\n",
    "`Enter Word to change to upper case: Mahbub`\n",
    "\n",
    "`Server echo: MAHBUB`"
   ]
  }
 ],
 "metadata": {
  "interpreter": {
   "hash": "4f3b078249380ea762697f4f8f6aea77b3d6e43cbb1b18cbb73d8cde5aa597e7"
  },
  "kernelspec": {
   "display_name": "Python 3.9.7 64-bit (system)",
   "language": "python",
   "name": "python3"
  },
  "language_info": {
   "codemirror_mode": {
    "name": "ipython",
    "version": 3
   },
   "file_extension": ".py",
   "mimetype": "text/x-python",
   "name": "python",
   "nbconvert_exporter": "python",
   "pygments_lexer": "ipython3",
   "version": "3.10.2"
  },
  "orig_nbformat": 4
 },
 "nbformat": 4,
 "nbformat_minor": 2
}
