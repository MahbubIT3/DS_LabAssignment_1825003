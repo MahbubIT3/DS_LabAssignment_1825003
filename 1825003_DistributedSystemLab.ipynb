{
 "cells": [
  {
   "cell_type": "markdown",
   "metadata": {},
   "source": [
    "# Sockets Programming\n",
    "\n",
    "## **1**\n",
    "**Question:** Write a server (TCP) Program that opens a listening socket and waits to serve client.\n",
    "\n",
    "First, we need to run the server program"
   ]
  },
  {
   "cell_type": "code",
   "execution_count": null,
   "metadata": {},
   "outputs": [],
   "source": [
    "# @title Server Program\n",
    "\n",
    "import socket\n",
    "\n",
    "s = socket.socket(socket.AF_INET, socket.SOCK_STREAM)\n",
    "\n",
    "s.bind((socket.gethostname(), 1234))\n",
    "s.listen(5)\n",
    "\n",
    "while True:\n",
    "  clientsocket, address = s.accept()\n",
    "  print(f\"Connection from {address} has been established\")\n",
    "  clientsocket.send(bytes(\"Welcome to the server!\", \"utf-8\"))"
   ]
  },
  {
   "cell_type": "markdown",
   "metadata": {},
   "source": [
    "## Output:\n",
    "When `client` server successfully connect to the host `server` this output will be shown on `server` program\n",
    "\n",
    "`Connection from ('192.168.0.102', 55454) has been established`"
   ]
  },
  {
   "cell_type": "markdown",
   "metadata": {},
   "source": [
    "## **2**\n",
    "**Question:** Write a `client` (TCP) Program that connects with the `server` program knowing IP address and port number.\n",
    "\n",
    "After run the `server` program we need to run this `client` program"
   ]
  },
  {
   "cell_type": "code",
   "execution_count": 2,
   "metadata": {},
   "outputs": [
    {
     "name": "stdout",
     "output_type": "stream",
     "text": [
      "Welcome to the server!\n"
     ]
    }
   ],
   "source": [
    "import socket\n",
    "s = socket.socket(socket.AF_INET, socket.SOCK_STREAM)\n",
    "\n",
    "s.connect((socket.gethostname(), 1234))\n",
    "\n",
    "msg = s.recv(1024)\n",
    "\n",
    "print(msg.decode(\"utf-8\"))"
   ]
  },
  {
   "cell_type": "markdown",
   "metadata": {},
   "source": [
    "## Output:\n",
    "When `client` successfully connect to the host `server` this output will be shown on the `client` program\n",
    "\n",
    "`Welcome to the server!`"
   ]
  }
 ],
 "metadata": {
  "interpreter": {
   "hash": "4f3b078249380ea762697f4f8f6aea77b3d6e43cbb1b18cbb73d8cde5aa597e7"
  },
  "kernelspec": {
   "display_name": "Python 3.9.7 64-bit (system)",
   "language": "python",
   "name": "python3"
  },
  "language_info": {
   "codemirror_mode": {
    "name": "ipython",
    "version": 3
   },
   "file_extension": ".py",
   "mimetype": "text/x-python",
   "name": "python",
   "nbconvert_exporter": "python",
   "pygments_lexer": "ipython3",
   "version": "3.10.2"
  },
  "orig_nbformat": 4
 },
 "nbformat": 4,
 "nbformat_minor": 2
}
